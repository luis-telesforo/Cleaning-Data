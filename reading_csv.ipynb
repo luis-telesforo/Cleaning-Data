{
  "nbformat": 4,
  "nbformat_minor": 0,
  "metadata": {
    "colab": {
      "name": "reading_csv.ipynb",
      "provenance": [],
      "collapsed_sections": [],
      "mount_file_id": "17iJp7_31eNmKaPZW1ZdZOnE20M5OJFpJ",
      "authorship_tag": "ABX9TyOme58Y9eljnG7jSjmdezXa",
      "include_colab_link": true
    },
    "kernelspec": {
      "name": "python3",
      "display_name": "Python 3"
    },
    "language_info": {
      "name": "python"
    }
  },
  "cells": [
    {
      "cell_type": "markdown",
      "metadata": {
        "id": "view-in-github",
        "colab_type": "text"
      },
      "source": [
        "<a href=\"https://colab.research.google.com/github/luis-telesforo/Cleaning-Data/blob/main/reading_csv.ipynb\" target=\"_parent\"><img src=\"https://colab.research.google.com/assets/colab-badge.svg\" alt=\"Open In Colab\"/></a>"
      ]
    },
    {
      "cell_type": "markdown",
      "source": [
        "#Readind a csv with the csv module\n",
        "We have a csv file with MPG records. With this we do a simply calculation of the mean MPG taking into account different variables.\n",
        "\n",
        "We take data from mpg records (mpg.csv) provided by U-M."
      ],
      "metadata": {
        "id": "zSYDUK87l-c4"
      }
    },
    {
      "cell_type": "code",
      "execution_count": 1,
      "metadata": {
        "id": "Szg9ETJ1l1bH"
      },
      "outputs": [],
      "source": [
        "import csv\n",
        "\n",
        "#We set precision 2:\n",
        "%precision 2\n",
        "\n",
        "with open(\"/content/drive/MyDrive/bases de datos michigan/mpg.csv\") as csvfile:\n",
        "  mpg = list(csv.DictReader(csvfile))"
      ]
    },
    {
      "cell_type": "markdown",
      "source": [
        "Our csv file contains a dictionary for each of the 234 cars listed. The set of keys is unique. In other words a key *k* is a variable with values in **mpg[n][k]** for $0\\leq n\\leq 233$. \n",
        "\n",
        "Here is an example of a dictionary in **mpg**\n",
        "\n"
      ],
      "metadata": {
        "id": "Wlko3J9YKRby"
      }
    },
    {
      "cell_type": "code",
      "source": [
        "mpg[0]"
      ],
      "metadata": {
        "colab": {
          "base_uri": "https://localhost:8080/"
        },
        "id": "sQHOKXloJrw5",
        "outputId": "44461ac2-8a14-449e-dcae-8b7955d53ed6"
      },
      "execution_count": 6,
      "outputs": [
        {
          "output_type": "execute_result",
          "data": {
            "text/plain": [
              "OrderedDict([('', '1'),\n",
              "             ('manufacturer', 'audi'),\n",
              "             ('model', 'a4'),\n",
              "             ('displ', '1.8'),\n",
              "             ('year', '1999'),\n",
              "             ('cyl', '4'),\n",
              "             ('trans', 'auto(l5)'),\n",
              "             ('drv', 'f'),\n",
              "             ('cty', '18'),\n",
              "             ('hwy', '29'),\n",
              "             ('fl', 'p'),\n",
              "             ('class', 'compact')])"
            ]
          },
          "metadata": {},
          "execution_count": 6
        }
      ]
    },
    {
      "cell_type": "markdown",
      "source": [
        "So, our variables are:"
      ],
      "metadata": {
        "id": "r9NdgJowKrwH"
      }
    },
    {
      "cell_type": "code",
      "source": [
        "mpg[0].keys()"
      ],
      "metadata": {
        "colab": {
          "base_uri": "https://localhost:8080/"
        },
        "id": "t5OHur75KpHM",
        "outputId": "d738d54f-015e-42ae-9b26-fd69d57847ff"
      },
      "execution_count": 7,
      "outputs": [
        {
          "output_type": "execute_result",
          "data": {
            "text/plain": [
              "odict_keys(['', 'manufacturer', 'model', 'displ', 'year', 'cyl', 'trans', 'drv', 'cty', 'hwy', 'fl', 'class'])"
            ]
          },
          "metadata": {},
          "execution_count": 7
        }
      ]
    },
    {
      "cell_type": "markdown",
      "source": [
        "We calculate the mean city MPG (that is, the miles per gallon a car can reach in the city) across all cars in our records we use **float** because each value is a string."
      ],
      "metadata": {
        "id": "I9p0DoXcN7Sk"
      }
    },
    {
      "cell_type": "code",
      "source": [
        "sum(float(d[\"cty\"]) for d in mpg)/len(mpg)"
      ],
      "metadata": {
        "colab": {
          "base_uri": "https://localhost:8080/"
        },
        "id": "qMfI4IQCKiJH",
        "outputId": "814356e9-c54e-4f98-be72-cb97761385af"
      },
      "execution_count": null,
      "outputs": [
        {
          "output_type": "execute_result",
          "data": {
            "text/plain": [
              "16.86"
            ]
          },
          "metadata": {},
          "execution_count": 13
        }
      ]
    },
    {
      "cell_type": "markdown",
      "source": [
        "We can extract all instances of the variable *cyl* and analize our data according to this cualitative variable, so we can compare fuel economy based on the number of cylinders a car has."
      ],
      "metadata": {
        "id": "bVDKCjiaPU1u"
      }
    },
    {
      "cell_type": "code",
      "source": [
        "cylinders = set(d[\"cyl\"] for d in mpg)\n",
        "\n",
        "CtyMpgCyl = [] #this list will contain tuples (c=#of cylinders,city MPG for c)\n",
        "for c in cylinders:\n",
        "\n",
        "  sumMpg = 0 #the mpg value for cars with c cylinders\n",
        "  cars_with_c_cyl = 0 #the number of cars with c cylinders\n",
        "  for d in mpg:\n",
        "\n",
        "    if d[\"cyl\"] == c: #we check if the d car has c cylinders\n",
        "\n",
        "      sumMpg += float(d[\"cty\"])\n",
        "      cars_with_c_cyl += 1\n",
        "\n",
        "  CtyMpgCyl.append((c,sumMpg/cars_with_c_cyl))\n",
        "\n",
        "CtyMpgCyl.sort(key=lambda x: x[0])\n",
        "CtyMpgCyl"
      ],
      "metadata": {
        "colab": {
          "base_uri": "https://localhost:8080/"
        },
        "id": "F9U-a8gmP35j",
        "outputId": "aada33cb-1d49-466b-ea14-18f27ad4b987"
      },
      "execution_count": 9,
      "outputs": [
        {
          "output_type": "execute_result",
          "data": {
            "text/plain": [
              "[('4', 21.01), ('5', 20.50), ('6', 16.22), ('8', 12.57)]"
            ]
          },
          "metadata": {},
          "execution_count": 9
        }
      ]
    },
    {
      "cell_type": "markdown",
      "source": [
        "We conclude that the mean of MPG is the best for cars with $4$ cylinders.\n",
        "\n",
        "We analize another variable with the same algorithm:"
      ],
      "metadata": {
        "id": "f8pYEwGZrI8K"
      }
    },
    {
      "cell_type": "code",
      "source": [
        "car_class = set(d[\"class\"] for d in mpg)\n",
        "\n",
        "CtyMpgClass = [] #this list will contain tuples (c=class,city MPG for c)\n",
        "for c in car_class:\n",
        "\n",
        "  sumMpg = 0 #the mpg value for cars of class c\n",
        "  cars_in_c = 0 #the number of cars of class\n",
        "  for d in mpg:\n",
        "\n",
        "    if d[\"class\"] == c: #we check if the d car is in the class c\n",
        "\n",
        "      sumMpg += float(d[\"cty\"])\n",
        "      cars_in_c += 1\n",
        "\n",
        "  CtyMpgClass.append((c,sumMpg/cars_in_c))\n",
        "\n",
        "CtyMpgClass.sort(key=lambda x: x[1])\n",
        "CtyMpgClass"
      ],
      "metadata": {
        "id": "k2CezwnUSZ89",
        "colab": {
          "base_uri": "https://localhost:8080/"
        },
        "outputId": "b03d0616-e991-41fd-ea36-ad0808b35a52"
      },
      "execution_count": 8,
      "outputs": [
        {
          "output_type": "execute_result",
          "data": {
            "text/plain": [
              "[('pickup', 13.00),\n",
              " ('suv', 13.50),\n",
              " ('2seater', 15.40),\n",
              " ('minivan', 15.82),\n",
              " ('midsize', 18.76),\n",
              " ('compact', 20.13),\n",
              " ('subcompact', 20.37)]"
            ]
          },
          "metadata": {},
          "execution_count": 8
        }
      ]
    },
    {
      "cell_type": "code",
      "source": [
        ""
      ],
      "metadata": {
        "id": "JDfiv6D3qt2q"
      },
      "execution_count": null,
      "outputs": []
    }
  ]
}