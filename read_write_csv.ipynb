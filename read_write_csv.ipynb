{
  "nbformat": 4,
  "nbformat_minor": 0,
  "metadata": {
    "colab": {
      "name": "read_write_csv.ipynb",
      "provenance": [],
      "collapsed_sections": [],
      "mount_file_id": "17iJp7_31eNmKaPZW1ZdZOnE20M5OJFpJ",
      "authorship_tag": "ABX9TyOCgtsdwJemjJFJ/daDFDEA",
      "include_colab_link": true
    },
    "kernelspec": {
      "name": "python3",
      "display_name": "Python 3"
    },
    "language_info": {
      "name": "python"
    }
  },
  "cells": [
    {
      "cell_type": "markdown",
      "metadata": {
        "id": "view-in-github",
        "colab_type": "text"
      },
      "source": [
        "<a href=\"https://colab.research.google.com/github/luis-telesforo/Cleaning-Data/blob/main/read_write_csv.ipynb\" target=\"_parent\"><img src=\"https://colab.research.google.com/assets/colab-badge.svg\" alt=\"Open In Colab\"/></a>"
      ]
    },
    {
      "cell_type": "markdown",
      "source": [
        "#Read and write csv\n",
        "We take data from mpg records"
      ],
      "metadata": {
        "id": "zSYDUK87l-c4"
      }
    },
    {
      "cell_type": "code",
      "execution_count": 8,
      "metadata": {
        "id": "Szg9ETJ1l1bH"
      },
      "outputs": [],
      "source": [
        "import csv\n",
        "\n",
        "#We set precision 2:\n",
        "%precision 2\n",
        "\n",
        "with open(\"/content/drive/MyDrive/bases de datos michigan/mpg.csv\") as csvfile:\n",
        "  mpg = list(csv.DictReader(csvfile))"
      ]
    },
    {
      "cell_type": "markdown",
      "source": [
        "Our csv file contains a dictionario for each of the 234 cars listed"
      ],
      "metadata": {
        "id": "Wlko3J9YKRby"
      }
    },
    {
      "cell_type": "code",
      "source": [
        "mpg[0]"
      ],
      "metadata": {
        "colab": {
          "base_uri": "https://localhost:8080/"
        },
        "id": "sQHOKXloJrw5",
        "outputId": "5f3c4132-9078-4ab5-b8ae-c9ebc9c43a31"
      },
      "execution_count": 10,
      "outputs": [
        {
          "output_type": "execute_result",
          "data": {
            "text/plain": [
              "OrderedDict([('', '1'),\n",
              "             ('manufacturer', 'audi'),\n",
              "             ('model', 'a4'),\n",
              "             ('displ', '1.8'),\n",
              "             ('year', '1999'),\n",
              "             ('cyl', '4'),\n",
              "             ('trans', 'auto(l5)'),\n",
              "             ('drv', 'f'),\n",
              "             ('cty', '18'),\n",
              "             ('hwy', '29'),\n",
              "             ('fl', 'p'),\n",
              "             ('class', 'compact')])"
            ]
          },
          "metadata": {},
          "execution_count": 10
        }
      ]
    },
    {
      "cell_type": "markdown",
      "source": [
        "The keys of each dictionary can be accesed with:"
      ],
      "metadata": {
        "id": "r9NdgJowKrwH"
      }
    },
    {
      "cell_type": "code",
      "source": [
        "mpg[0].keys()"
      ],
      "metadata": {
        "colab": {
          "base_uri": "https://localhost:8080/"
        },
        "id": "t5OHur75KpHM",
        "outputId": "47701cd7-e45c-42ac-e604-84476875ecef"
      },
      "execution_count": 12,
      "outputs": [
        {
          "output_type": "execute_result",
          "data": {
            "text/plain": [
              "odict_keys(['', 'manufacturer', 'model', 'displ', 'year', 'cyl', 'trans', 'drv', 'cty', 'hwy', 'fl', 'class'])"
            ]
          },
          "metadata": {},
          "execution_count": 12
        }
      ]
    },
    {
      "cell_type": "markdown",
      "source": [
        "We calculate the mean city MPG (that is, the miles per gallon a car can reach in the city) across all cars in our records we use **float** because the values of each dictionary are **str**"
      ],
      "metadata": {
        "id": "I9p0DoXcN7Sk"
      }
    },
    {
      "cell_type": "code",
      "source": [
        "sum(float(d[\"cty\"]) for d in mpg)/len(mpg)"
      ],
      "metadata": {
        "colab": {
          "base_uri": "https://localhost:8080/"
        },
        "id": "qMfI4IQCKiJH",
        "outputId": "814356e9-c54e-4f98-be72-cb97761385af"
      },
      "execution_count": 13,
      "outputs": [
        {
          "output_type": "execute_result",
          "data": {
            "text/plain": [
              "16.86"
            ]
          },
          "metadata": {},
          "execution_count": 13
        }
      ]
    },
    {
      "cell_type": "markdown",
      "source": [
        "We extract all instances of the variable *cyl*"
      ],
      "metadata": {
        "id": "bVDKCjiaPU1u"
      }
    },
    {
      "cell_type": "code",
      "source": [
        "cylinders = set(d[\"cyl\"] for d in mpg)"
      ],
      "metadata": {
        "id": "NrnrEjD0OYV-"
      },
      "execution_count": 16,
      "outputs": []
    },
    {
      "cell_type": "markdown",
      "source": [
        "Now, we calculate the average city MPG by number of cylinders, so we can compare fuel economy based on the number of cylinders a car has."
      ],
      "metadata": {
        "id": "04XJk7JIQSrl"
      }
    },
    {
      "cell_type": "code",
      "source": [
        "CtyMpgCyl = [] #this list will contain tuples (c=#of cylinders,city MPG for c)\n",
        "for c in cylinders:\n",
        "\n",
        "  sumMpg = 0 #the mpg value for cars with c cylinders\n",
        "  cars_with_c_cyl = 0 #the number of cars with c cylinders\n",
        "  for d in mpg:\n",
        "\n",
        "    if d[\"cyl\"] == c: #we check if the d car has c cylinders\n",
        "\n",
        "      sumMpg += float(d[\"cty\"])\n",
        "      cars_with_c_cyl += 1\n",
        "\n",
        "  CtyMpgCyl.append((c,sumMpg/cars_with_c_cyl))\n",
        "\n",
        "CtyMpgCyl.sort(key=lambda x: x[0])\n",
        "CtyMpgCyl"
      ],
      "metadata": {
        "colab": {
          "base_uri": "https://localhost:8080/"
        },
        "id": "F9U-a8gmP35j",
        "outputId": "ada553dd-c781-45cf-de29-a84692929f2e"
      },
      "execution_count": 17,
      "outputs": [
        {
          "output_type": "execute_result",
          "data": {
            "text/plain": [
              "[('4', 21.01), ('5', 20.50), ('6', 16.22), ('8', 12.57)]"
            ]
          },
          "metadata": {},
          "execution_count": 17
        }
      ]
    },
    {
      "cell_type": "code",
      "source": [
        ""
      ],
      "metadata": {
        "id": "k2CezwnUSZ89"
      },
      "execution_count": null,
      "outputs": []
    }
  ]
}