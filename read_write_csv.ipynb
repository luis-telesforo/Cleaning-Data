{
  "nbformat": 4,
  "nbformat_minor": 0,
  "metadata": {
    "colab": {
      "name": "read_write_csv.ipynb",
      "provenance": [],
      "mount_file_id": "17iJp7_31eNmKaPZW1ZdZOnE20M5OJFpJ",
      "authorship_tag": "ABX9TyNbeGN3HrWg7W8ktEVq4Uex",
      "include_colab_link": true
    },
    "kernelspec": {
      "name": "python3",
      "display_name": "Python 3"
    },
    "language_info": {
      "name": "python"
    }
  },
  "cells": [
    {
      "cell_type": "markdown",
      "metadata": {
        "id": "view-in-github",
        "colab_type": "text"
      },
      "source": [
        "<a href=\"https://colab.research.google.com/github/luis-telesforo/Cleaning-Data/blob/main/read_write_csv.ipynb\" target=\"_parent\"><img src=\"https://colab.research.google.com/assets/colab-badge.svg\" alt=\"Open In Colab\"/></a>"
      ]
    },
    {
      "cell_type": "markdown",
      "source": [
        "#Leer y escribir csv"
      ],
      "metadata": {
        "id": "zSYDUK87l-c4"
      }
    },
    {
      "cell_type": "code",
      "execution_count": null,
      "metadata": {
        "id": "Szg9ETJ1l1bH"
      },
      "outputs": [],
      "source": [
        "import csv\n",
        "\n",
        "#Establecemos la precision en 2:\n",
        "%precision 2"
      ]
    }
  ]
}