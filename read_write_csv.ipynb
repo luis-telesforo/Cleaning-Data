{
  "nbformat": 4,
  "nbformat_minor": 0,
  "metadata": {
    "colab": {
      "name": "read_write_csv.ipynb",
      "provenance": [],
      "collapsed_sections": [],
      "mount_file_id": "17iJp7_31eNmKaPZW1ZdZOnE20M5OJFpJ",
      "authorship_tag": "ABX9TyOQ8LvG3FDda6SlG7yLzx28",
      "include_colab_link": true
    },
    "kernelspec": {
      "name": "python3",
      "display_name": "Python 3"
    },
    "language_info": {
      "name": "python"
    }
  },
  "cells": [
    {
      "cell_type": "markdown",
      "metadata": {
        "id": "view-in-github",
        "colab_type": "text"
      },
      "source": [
        "<a href=\"https://colab.research.google.com/github/luis-telesforo/Cleaning-Data/blob/main/read_write_csv.ipynb\" target=\"_parent\"><img src=\"https://colab.research.google.com/assets/colab-badge.svg\" alt=\"Open In Colab\"/></a>"
      ]
    },
    {
      "cell_type": "markdown",
      "source": [
        "#Read and write csv"
      ],
      "metadata": {
        "id": "zSYDUK87l-c4"
      }
    },
    {
      "cell_type": "code",
      "execution_count": 2,
      "metadata": {
        "colab": {
          "base_uri": "https://localhost:8080/"
        },
        "id": "Szg9ETJ1l1bH",
        "outputId": "36198f7e-d3b7-4936-8147-26ecf618952f"
      },
      "outputs": [
        {
          "output_type": "execute_result",
          "data": {
            "text/plain": [
              "OrderedDict([('', '4'),\n",
              "             ('manufacturer', 'audi'),\n",
              "             ('model', 'a4'),\n",
              "             ('displ', '2'),\n",
              "             ('year', '2008'),\n",
              "             ('cyl', '4'),\n",
              "             ('trans', 'auto(av)'),\n",
              "             ('drv', 'f'),\n",
              "             ('cty', '21'),\n",
              "             ('hwy', '30'),\n",
              "             ('fl', 'p'),\n",
              "             ('class', 'compact')])"
            ]
          },
          "metadata": {},
          "execution_count": 2
        }
      ],
      "source": [
        "import csv\n",
        "\n",
        "#We set precision 2:\n",
        "%precision 2\n",
        "\n",
        "with open(\"/content/drive/MyDrive/bases de datos michigan/mpg.csv\") as csvfile:\n",
        "  mpg = list(csv.DictReader(csvfile))\n",
        "\n",
        "mpg[3]"
      ]
    },
    {
      "cell_type": "code",
      "source": [
        ""
      ],
      "metadata": {
        "id": "asQ74-uNIWn7"
      },
      "execution_count": null,
      "outputs": []
    }
  ]
}