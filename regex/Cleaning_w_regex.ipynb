{
  "cells": [
    {
      "cell_type": "markdown",
      "metadata": {
        "id": "view-in-github",
        "colab_type": "text"
      },
      "source": [
        "<a href=\"https://colab.research.google.com/github/luis-telesforo/Cleaning-Data/blob/main/Cleaning_w_regex.ipynb\" target=\"_parent\"><img src=\"https://colab.research.google.com/assets/colab-badge.svg\" alt=\"Open In Colab\"/></a>"
      ]
    },
    {
      "cell_type": "code",
      "source": [
        "from google.colab import drive\n",
        "drive.mount('/content/drive')"
      ],
      "metadata": {
        "colab": {
          "base_uri": "https://localhost:8080/"
        },
        "outputId": "5d97e6b0-3e62-4ffa-e9ab-f5dce6b1c6c7",
        "id": "xreqponPyoMP"
      },
      "execution_count": 48,
      "outputs": [
        {
          "output_type": "stream",
          "name": "stdout",
          "text": [
            "Drive already mounted at /content/drive; to attempt to forcibly remount, call drive.mount(\"/content/drive\", force_remount=True).\n"
          ]
        }
      ]
    },
    {
      "cell_type": "markdown",
      "metadata": {
        "deletable": false,
        "editable": false,
        "nbgrader": {
          "checksum": "cebdb0cf7dac64a3ae23ccb88f6fda3b",
          "grade": false,
          "grade_id": "cell-fa48e7f1b94baa5b",
          "locked": true,
          "schema_version": 1,
          "solution": false
        },
        "id": "HVtWHbCmtQyp"
      },
      "source": [
        "#Cleaning text with regex\n",
        "\n"
      ]
    },
    {
      "cell_type": "markdown",
      "metadata": {
        "id": "f2fSTlcStQy_"
      },
      "source": [
        "##Set notation\n",
        "\n",
        "Find a list of all of the names in the following string using regex.\n",
        "\n",
        "We use the set notation **[...]** to look for a string having one of the characters inside the brackets. \n",
        "\n",
        "Inside brackets the regex **A-Z** means we are looking for any charcater in that range (they should be ordered).\n",
        "\n",
        "Appending several **[...]** means we are looking for strings having exactly one character in each set.\n",
        "\n",
        "Special characters **?,*,+** mean that the latter regex is repeated at most once, any number of times and at least once."
      ]
    },
    {
      "cell_type": "code",
      "execution_count": 49,
      "metadata": {
        "deletable": false,
        "nbgrader": {
          "checksum": "29bc8c161c0e246c1e3ef4820cc164f7",
          "grade": false,
          "grade_id": "names",
          "locked": false,
          "schema_version": 1,
          "solution": true
        },
        "id": "kV4dp0ietQzB"
      },
      "outputs": [],
      "source": [
        "import re\n",
        "def names():\n",
        "    simple_string = \"\"\"Amy is 5 years old, and her sister Mary is 2 years old. \n",
        "    Ruth and Peter, their parents, have 3 kids.\"\"\"\n",
        "\n",
        "    # YOUR CODE HERE\n",
        "    return re.findall(\"[A-Z][a-z]*\",simple_string)\n",
        "    raise NotImplementedError()"
      ]
    },
    {
      "cell_type": "code",
      "execution_count": 50,
      "metadata": {
        "deletable": false,
        "editable": false,
        "nbgrader": {
          "checksum": "ed5c09ac57f7d98130d5abc557f6d6c4",
          "grade": true,
          "grade_id": "correct_names",
          "locked": false,
          "points": 1,
          "schema_version": 1,
          "solution": false
        },
        "colab": {
          "base_uri": "https://localhost:8080/"
        },
        "id": "sXPtinLctQzF",
        "outputId": "6bcf5004-143f-4b23-a465-0be6f63bbb92"
      },
      "outputs": [
        {
          "output_type": "stream",
          "name": "stdout",
          "text": [
            "['Amy', 'Mary', 'Ruth', 'Peter']\n"
          ]
        }
      ],
      "source": [
        "print(names())"
      ]
    },
    {
      "cell_type": "markdown",
      "metadata": {
        "deletable": false,
        "editable": false,
        "nbgrader": {
          "checksum": "77b3d100c47e9e41d98f82dfeb7eba9c",
          "grade": false,
          "grade_id": "cell-ed64e3464ddd7ba7",
          "locked": true,
          "schema_version": 1,
          "solution": false
        },
        "id": "BOz87bx9tQzG"
      },
      "source": [
        "##Groups\n",
        "The dataset file grades.txt (provided by U-M) contains a line separated list of people with their grade in \n",
        "a class. "
      ]
    },
    {
      "cell_type": "code",
      "source": [
        "with open (\"/content/drive/MyDrive/bases de datos michigan/grades.txt\", \"r\") as file:\n",
        "        data = file.read()\n",
        "data"
      ],
      "metadata": {
        "colab": {
          "base_uri": "https://localhost:8080/",
          "height": 0
        },
        "id": "3-kKV2LN34gm",
        "outputId": "c0964728-de6a-45ef-c941-f7b5ca3fe6f7"
      },
      "execution_count": 51,
      "outputs": [
        {
          "output_type": "execute_result",
          "data": {
            "text/plain": [
              "'Ronald Mayr: A\\nBell Kassulke: B\\nJacqueline Rupp: A \\nAlexander Zeller: C\\nValentina Denk: C \\nSimon Loidl: B \\nElias Jovanovic: B \\nStefanie Weninger: A \\nFabian Peer: C \\nHakim Botros: B\\nEmilie Lorentsen: B\\nHerman Karlsen: C\\nNathalie Delacruz: C\\nCasey Hartman: C\\nLily Walker : A\\nGerard Wang: C\\nTony Mcdowell: C\\nJake Wood: B\\nFatemeh Akhtar: B\\nKim Weston: B\\nNicholas Beatty: A\\nKirsten Williams: C\\nVaishali Surana: C\\nCoby Mccormack: C\\nYasmin Dar: B\\nRomy Donnelly: A\\nViswamitra Upandhye: B\\nKendrick Hilpert: A\\nKillian Kaufman: B\\nElwood Page: B\\nMukti Patel: A\\nEmily Lesch: C\\nElodie Booker: B\\nJedd Kim: A\\nAnnabel Davies: A\\nAdnan Chen: B\\nJonathan Berg: C\\nHank Spinka: B\\nAgnes Schneider: C\\nKimberly Green: A\\nLola-Rose Coates: C\\nRose Christiansen: C\\nShirley Hintz: C\\nHannah Bayer: B'"
            ],
            "application/vnd.google.colaboratory.intrinsic+json": {
              "type": "string"
            }
          },
          "metadata": {},
          "execution_count": 51
        }
      ]
    },
    {
      "cell_type": "markdown",
      "source": [
        "We can create a regex to generate a list of just those students who received a B in the course.\n",
        "\n",
        "As in the above regex we want to identify names, but this time we want to save last names too. So, our regex uses **\\s**. \n",
        "This special sequence looks for a single space.\n",
        "\n",
        "Notice that we use parenthesis to enclose the regex corresponding to the name. This is how we create a group.\n",
        "\n",
        "**findall** will keep all groups except those that are indicated with **(?=...)**. Any other regex is excluded in the result."
      ],
      "metadata": {
        "id": "aKbY1All37jU"
      }
    },
    {
      "cell_type": "code",
      "execution_count": 52,
      "metadata": {
        "deletable": false,
        "nbgrader": {
          "checksum": "e977a1df674e9fa684e6d172aec92824",
          "grade": false,
          "grade_id": "grades",
          "locked": false,
          "schema_version": 1,
          "solution": true
        },
        "id": "Gqocc5zOtQzI"
      },
      "outputs": [],
      "source": [
        "def no_grades():\n",
        "    with open (\"/content/drive/MyDrive/bases de datos michigan/grades.txt\", \"r\") as file:\n",
        "        grades = file.read()\n",
        "\n",
        "    # YOUR CODE HERE\n",
        "    return(re.findall(\"([A-Z][a-z]*\\s[A-Z][a-z]*):\\s(?=B)\",grades))\n",
        "    raise NotImplementedError()"
      ]
    },
    {
      "cell_type": "code",
      "execution_count": 53,
      "metadata": {
        "deletable": false,
        "editable": false,
        "nbgrader": {
          "checksum": "e0bcc452d60fc45259e58d3116d25477",
          "grade": true,
          "grade_id": "correct_grades",
          "locked": false,
          "points": 1,
          "schema_version": 1,
          "solution": false
        },
        "colab": {
          "base_uri": "https://localhost:8080/"
        },
        "id": "Go_L9hOFtQzK",
        "outputId": "617ac856-59de-4726-9633-c160894b1f02"
      },
      "outputs": [
        {
          "output_type": "stream",
          "name": "stdout",
          "text": [
            "['Bell Kassulke', 'Simon Loidl', 'Elias Jovanovic', 'Hakim Botros', 'Emilie Lorentsen', 'Jake Wood', 'Fatemeh Akhtar', 'Kim Weston', 'Yasmin Dar', 'Viswamitra Upandhye', 'Killian Kaufman', 'Elwood Page', 'Elodie Booker', 'Adnan Chen', 'Hank Spinka', 'Hannah Bayer']\n"
          ]
        }
      ],
      "source": [
        "print(no_grades())"
      ]
    },
    {
      "cell_type": "markdown",
      "source": [
        "The same code, but keeping the grades will retrive tuples:"
      ],
      "metadata": {
        "id": "pzV5di3X7nlm"
      }
    },
    {
      "cell_type": "code",
      "source": [
        "def grades():\n",
        "    with open (\"/content/drive/MyDrive/bases de datos michigan/grades.txt\", \"r\") as file:\n",
        "        grades = file.read()\n",
        "\n",
        "    # YOUR CODE HERE\n",
        "    return(re.findall(\"([A-Z][a-z]*\\s[A-Z][a-z]*):\\s(B)\",grades))\n",
        "    raise NotImplementedError()\n",
        "print(grades())"
      ],
      "metadata": {
        "colab": {
          "base_uri": "https://localhost:8080/"
        },
        "id": "kt9C8OPv7nWB",
        "outputId": "e174657e-7620-412f-b719-19d9aac7563f"
      },
      "execution_count": 54,
      "outputs": [
        {
          "output_type": "stream",
          "name": "stdout",
          "text": [
            "[('Bell Kassulke', 'B'), ('Simon Loidl', 'B'), ('Elias Jovanovic', 'B'), ('Hakim Botros', 'B'), ('Emilie Lorentsen', 'B'), ('Jake Wood', 'B'), ('Fatemeh Akhtar', 'B'), ('Kim Weston', 'B'), ('Yasmin Dar', 'B'), ('Viswamitra Upandhye', 'B'), ('Killian Kaufman', 'B'), ('Elwood Page', 'B'), ('Elodie Booker', 'B'), ('Adnan Chen', 'B'), ('Hank Spinka', 'B'), ('Hannah Bayer', 'B')]\n"
          ]
        }
      ]
    },
    {
      "cell_type": "markdown",
      "metadata": {
        "deletable": false,
        "editable": false,
        "nbgrader": {
          "checksum": "36e3e2a3a3e29fa7b823d22476392320",
          "grade": false,
          "grade_id": "cell-e253518e37d33f0c",
          "locked": true,
          "schema_version": 1,
          "solution": false
        },
        "id": "pV1qK8_vtQzO"
      },
      "source": [
        "## Named groups\n",
        "\n",
        "Consider the standard web log file logdata.txt (provided by the U-M). This file records the access a user makes when visiting a web page. Each line of the log has the following items:\n",
        "* a host (e.g., '146.204.224.152') \n",
        "* a user_name (e.g., 'feest6811' **note: sometimes the user name is missing! In this case, use '-' as the value for the username.**)\n",
        "* the time a request was made (e.g., '21/Jun/2019:15:45:24 -0700')\n",
        "* the post request type (e.g., 'POST /incentivize HTTP/1.1' **note: not everything is a POST!**)\n",
        "\n",
        "We convert this into a list of dictionaries, where each dictionary looks like the following:\n",
        "```\n",
        "example_dict = {\"host\":\"146.204.224.152\", \n",
        "                \"user_name\":\"feest6811\", \n",
        "                \"time\":\"21/Jun/2019:15:45:24 -0700\",\n",
        "                \"request\":\"POST /incentivize HTTP/1.1\"}\n",
        "```"
      ]
    },
    {
      "cell_type": "code",
      "source": [
        "logdata = open(\"/content/drive/MyDrive/bases de datos michigan/logdata.txt\", \"r\")\n",
        "print(logdata.readline())"
      ],
      "metadata": {
        "colab": {
          "base_uri": "https://localhost:8080/"
        },
        "id": "ME8CbxRn8ptP",
        "outputId": "958755d7-0c8b-4487-ff40-257a103b3039"
      },
      "execution_count": 55,
      "outputs": [
        {
          "output_type": "stream",
          "name": "stdout",
          "text": [
            "146.204.224.152 - feest6811 [21/Jun/2019:15:45:24 -0700] \"POST /incentivize HTTP/1.1\" 302 4622\n",
            "\n"
          ]
        }
      ]
    },
    {
      "cell_type": "markdown",
      "source": [
        "The variable **pattern** is the regex we will pass to **finditer**. We do not use **findall** because we want to create a dictionary. **finditer** returns an iterator containing *match* objects.\n",
        "\n",
        "**groupdict** returns a dictionary with all named groups in a **match** object as values and their names as keys.\n",
        "\n",
        "The special sequence **\\S** looks for any character that is not a space. The special character **.** looks for anything."
      ],
      "metadata": {
        "id": "mbNTwu549XC3"
      }
    },
    {
      "cell_type": "code",
      "execution_count": 56,
      "metadata": {
        "deletable": false,
        "nbgrader": {
          "checksum": "c04017e59e48b2f4c77bf425ed84b356",
          "grade": false,
          "grade_id": "logs",
          "locked": false,
          "schema_version": 1,
          "solution": true
        },
        "colab": {
          "base_uri": "https://localhost:8080/"
        },
        "id": "EL6wVBbvtQzQ",
        "outputId": "d57d0408-0aa5-42e6-c7d1-f0eae882d47f"
      },
      "outputs": [
        {
          "output_type": "execute_result",
          "data": {
            "text/plain": [
              "{'host': '146.204.224.152',\n",
              " 'request': 'POST /incentivize HTTP/1.1',\n",
              " 'time': '21/Jun/2019:15:45:24 -0700',\n",
              " 'user_name': 'feest6811'}"
            ]
          },
          "metadata": {},
          "execution_count": 56
        }
      ],
      "source": [
        "def logs():\n",
        "    with open(\"/content/drive/MyDrive/bases de datos michigan/logdata.txt\", \"r\") as file:\n",
        "        logdata = file.read()\n",
        "    diccionaries = []\n",
        "    pattern = \"\"\"\n",
        "    (?P<host>\\S*)\n",
        "    (\\s-\\s)\n",
        "    (?P<user_name>.*)\n",
        "    (\\s\\[)\n",
        "    (?P<time>.*)\n",
        "    (\\]\\s\\\")\n",
        "    (?P<request>.*)\n",
        "    (\\\")\"\"\"\n",
        "    for item in re.finditer(pattern,logdata,re.VERBOSE):\n",
        "      diccionaries.append(item.groupdict())\n",
        "    return diccionaries\n",
        "    # YOUR CODE HERE\n",
        "    raise NotImplementedError()\n",
        "logs()[0]"
      ]
    },
    {
      "cell_type": "code",
      "source": [
        ""
      ],
      "metadata": {
        "id": "3qk-GspLBvAQ"
      },
      "execution_count": 56,
      "outputs": []
    }
  ],
  "metadata": {
    "coursera": {
      "schema_names": [
        "mooc_adswpy_1_v2_assignment1"
      ]
    },
    "kernelspec": {
      "display_name": "Python 3",
      "language": "python",
      "name": "python3"
    },
    "language_info": {
      "codemirror_mode": {
        "name": "ipython",
        "version": 3
      },
      "file_extension": ".py",
      "mimetype": "text/x-python",
      "name": "python",
      "nbconvert_exporter": "python",
      "pygments_lexer": "ipython3",
      "version": "3.7.3"
    },
    "colab": {
      "name": "assignment1.ipynb",
      "provenance": [],
      "collapsed_sections": [],
      "include_colab_link": true
    }
  },
  "nbformat": 4,
  "nbformat_minor": 0
}
