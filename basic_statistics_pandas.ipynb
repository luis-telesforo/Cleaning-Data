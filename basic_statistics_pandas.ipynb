{
  "cells": [
    {
      "cell_type": "markdown",
      "metadata": {
        "id": "view-in-github",
        "colab_type": "text"
      },
      "source": [
        "<a href=\"https://colab.research.google.com/github/luis-telesforo/Cleaning-Data/blob/main/basic_statistics_pandas.ipynb\" target=\"_parent\"><img src=\"https://colab.research.google.com/assets/colab-badge.svg\" alt=\"Open In Colab\"/></a>"
      ]
    },
    {
      "cell_type": "markdown",
      "metadata": {
        "deletable": false,
        "editable": false,
        "nbgrader": {
          "checksum": "5a8d839ee00398fa3bd3bc58ec642beb",
          "grade": false,
          "grade_id": "cell-a839e7b47494b4c3",
          "locked": true,
          "schema_version": 1,
          "solution": false
        },
        "id": "wOKHa1Wl-4kc"
      },
      "source": [
        "#Basic statistics with pandas\n",
        "We use 2017 data on immunizations from the Centers for Disease Control and Prevention (CDC)."
      ]
    },
    {
      "cell_type": "code",
      "source": [
        "from google.colab import drive\n",
        "drive.mount('/content/drive')"
      ],
      "metadata": {
        "colab": {
          "base_uri": "https://localhost:8080/"
        },
        "id": "R9SjZkL5ArD0",
        "outputId": "a0a36246-e808-4785-da40-be0691f39239"
      },
      "execution_count": 1,
      "outputs": [
        {
          "output_type": "stream",
          "name": "stdout",
          "text": [
            "Mounted at /content/drive\n"
          ]
        }
      ]
    },
    {
      "cell_type": "code",
      "source": [
        "import pandas as pd\n",
        "import numpy as np"
      ],
      "metadata": {
        "id": "m38ae067EsO1"
      },
      "execution_count": 2,
      "outputs": []
    },
    {
      "cell_type": "markdown",
      "source": [
        "Data provided by U-M. It contains 28,465 rows and 454 columns"
      ],
      "metadata": {
        "id": "yeKezjaMRUxw"
      }
    },
    {
      "cell_type": "code",
      "source": [
        "df = pd.read_csv(\"/content/drive/MyDrive/bases de datos michigan/NISPUF17.csv\")\n",
        "df.shape"
      ],
      "metadata": {
        "id": "7n6Gfe8zEx6U",
        "colab": {
          "base_uri": "https://localhost:8080/"
        },
        "outputId": "4dec4129-ddbe-49f2-a2c2-b3e74cc98187"
      },
      "execution_count": 6,
      "outputs": [
        {
          "output_type": "execute_result",
          "data": {
            "text/plain": [
              "(28465, 454)"
            ]
          },
          "metadata": {},
          "execution_count": 6
        }
      ]
    },
    {
      "cell_type": "code",
      "source": [
        "df.head(3)"
      ],
      "metadata": {
        "colab": {
          "base_uri": "https://localhost:8080/",
          "height": 254
        },
        "id": "c9GkiDAqSwYq",
        "outputId": "70870832-2189-49b8-ddd6-4a17d8329b34"
      },
      "execution_count": 7,
      "outputs": [
        {
          "output_type": "execute_result",
          "data": {
            "text/plain": [
              "   Unnamed: 0  SEQNUMC  SEQNUMHH  PDAT  PROVWT_D     RDDWT_D  STRATUM  YEAR  \\\n",
              "0           1   128521     12852     2       NaN  235.916956     1031  2017   \n",
              "1           2    10741      1074     2       NaN  957.353840     1068  2017   \n",
              "2           3   220011     22001     2       NaN  189.611299     1050  2017   \n",
              "\n",
              "   AGECPOXR  HAD_CPOX  ...  XVRCTY2  XVRCTY3  XVRCTY4  XVRCTY5  XVRCTY6  \\\n",
              "0       NaN         2  ...                        NaN      NaN      NaN   \n",
              "1       NaN         2  ...                        NaN      NaN      NaN   \n",
              "2       NaN         2  ...                        NaN      NaN      NaN   \n",
              "\n",
              "   XVRCTY7  XVRCTY8  XVRCTY9  INS_STAT2_I  INS_BREAK_I  \n",
              "0      NaN      NaN      NaN          NaN          NaN  \n",
              "1      NaN      NaN      NaN          NaN          NaN  \n",
              "2      NaN      NaN      NaN          NaN          NaN  \n",
              "\n",
              "[3 rows x 454 columns]"
            ],
            "text/html": [
              "\n",
              "  <div id=\"df-2b31ff83-f2f7-4eca-a2d8-03c9a1798511\">\n",
              "    <div class=\"colab-df-container\">\n",
              "      <div>\n",
              "<style scoped>\n",
              "    .dataframe tbody tr th:only-of-type {\n",
              "        vertical-align: middle;\n",
              "    }\n",
              "\n",
              "    .dataframe tbody tr th {\n",
              "        vertical-align: top;\n",
              "    }\n",
              "\n",
              "    .dataframe thead th {\n",
              "        text-align: right;\n",
              "    }\n",
              "</style>\n",
              "<table border=\"1\" class=\"dataframe\">\n",
              "  <thead>\n",
              "    <tr style=\"text-align: right;\">\n",
              "      <th></th>\n",
              "      <th>Unnamed: 0</th>\n",
              "      <th>SEQNUMC</th>\n",
              "      <th>SEQNUMHH</th>\n",
              "      <th>PDAT</th>\n",
              "      <th>PROVWT_D</th>\n",
              "      <th>RDDWT_D</th>\n",
              "      <th>STRATUM</th>\n",
              "      <th>YEAR</th>\n",
              "      <th>AGECPOXR</th>\n",
              "      <th>HAD_CPOX</th>\n",
              "      <th>...</th>\n",
              "      <th>XVRCTY2</th>\n",
              "      <th>XVRCTY3</th>\n",
              "      <th>XVRCTY4</th>\n",
              "      <th>XVRCTY5</th>\n",
              "      <th>XVRCTY6</th>\n",
              "      <th>XVRCTY7</th>\n",
              "      <th>XVRCTY8</th>\n",
              "      <th>XVRCTY9</th>\n",
              "      <th>INS_STAT2_I</th>\n",
              "      <th>INS_BREAK_I</th>\n",
              "    </tr>\n",
              "  </thead>\n",
              "  <tbody>\n",
              "    <tr>\n",
              "      <th>0</th>\n",
              "      <td>1</td>\n",
              "      <td>128521</td>\n",
              "      <td>12852</td>\n",
              "      <td>2</td>\n",
              "      <td>NaN</td>\n",
              "      <td>235.916956</td>\n",
              "      <td>1031</td>\n",
              "      <td>2017</td>\n",
              "      <td>NaN</td>\n",
              "      <td>2</td>\n",
              "      <td>...</td>\n",
              "      <td></td>\n",
              "      <td></td>\n",
              "      <td>NaN</td>\n",
              "      <td>NaN</td>\n",
              "      <td>NaN</td>\n",
              "      <td>NaN</td>\n",
              "      <td>NaN</td>\n",
              "      <td>NaN</td>\n",
              "      <td>NaN</td>\n",
              "      <td>NaN</td>\n",
              "    </tr>\n",
              "    <tr>\n",
              "      <th>1</th>\n",
              "      <td>2</td>\n",
              "      <td>10741</td>\n",
              "      <td>1074</td>\n",
              "      <td>2</td>\n",
              "      <td>NaN</td>\n",
              "      <td>957.353840</td>\n",
              "      <td>1068</td>\n",
              "      <td>2017</td>\n",
              "      <td>NaN</td>\n",
              "      <td>2</td>\n",
              "      <td>...</td>\n",
              "      <td></td>\n",
              "      <td></td>\n",
              "      <td>NaN</td>\n",
              "      <td>NaN</td>\n",
              "      <td>NaN</td>\n",
              "      <td>NaN</td>\n",
              "      <td>NaN</td>\n",
              "      <td>NaN</td>\n",
              "      <td>NaN</td>\n",
              "      <td>NaN</td>\n",
              "    </tr>\n",
              "    <tr>\n",
              "      <th>2</th>\n",
              "      <td>3</td>\n",
              "      <td>220011</td>\n",
              "      <td>22001</td>\n",
              "      <td>2</td>\n",
              "      <td>NaN</td>\n",
              "      <td>189.611299</td>\n",
              "      <td>1050</td>\n",
              "      <td>2017</td>\n",
              "      <td>NaN</td>\n",
              "      <td>2</td>\n",
              "      <td>...</td>\n",
              "      <td></td>\n",
              "      <td></td>\n",
              "      <td>NaN</td>\n",
              "      <td>NaN</td>\n",
              "      <td>NaN</td>\n",
              "      <td>NaN</td>\n",
              "      <td>NaN</td>\n",
              "      <td>NaN</td>\n",
              "      <td>NaN</td>\n",
              "      <td>NaN</td>\n",
              "    </tr>\n",
              "  </tbody>\n",
              "</table>\n",
              "<p>3 rows × 454 columns</p>\n",
              "</div>\n",
              "      <button class=\"colab-df-convert\" onclick=\"convertToInteractive('df-2b31ff83-f2f7-4eca-a2d8-03c9a1798511')\"\n",
              "              title=\"Convert this dataframe to an interactive table.\"\n",
              "              style=\"display:none;\">\n",
              "        \n",
              "  <svg xmlns=\"http://www.w3.org/2000/svg\" height=\"24px\"viewBox=\"0 0 24 24\"\n",
              "       width=\"24px\">\n",
              "    <path d=\"M0 0h24v24H0V0z\" fill=\"none\"/>\n",
              "    <path d=\"M18.56 5.44l.94 2.06.94-2.06 2.06-.94-2.06-.94-.94-2.06-.94 2.06-2.06.94zm-11 1L8.5 8.5l.94-2.06 2.06-.94-2.06-.94L8.5 2.5l-.94 2.06-2.06.94zm10 10l.94 2.06.94-2.06 2.06-.94-2.06-.94-.94-2.06-.94 2.06-2.06.94z\"/><path d=\"M17.41 7.96l-1.37-1.37c-.4-.4-.92-.59-1.43-.59-.52 0-1.04.2-1.43.59L10.3 9.45l-7.72 7.72c-.78.78-.78 2.05 0 2.83L4 21.41c.39.39.9.59 1.41.59.51 0 1.02-.2 1.41-.59l7.78-7.78 2.81-2.81c.8-.78.8-2.07 0-2.86zM5.41 20L4 18.59l7.72-7.72 1.47 1.35L5.41 20z\"/>\n",
              "  </svg>\n",
              "      </button>\n",
              "      \n",
              "  <style>\n",
              "    .colab-df-container {\n",
              "      display:flex;\n",
              "      flex-wrap:wrap;\n",
              "      gap: 12px;\n",
              "    }\n",
              "\n",
              "    .colab-df-convert {\n",
              "      background-color: #E8F0FE;\n",
              "      border: none;\n",
              "      border-radius: 50%;\n",
              "      cursor: pointer;\n",
              "      display: none;\n",
              "      fill: #1967D2;\n",
              "      height: 32px;\n",
              "      padding: 0 0 0 0;\n",
              "      width: 32px;\n",
              "    }\n",
              "\n",
              "    .colab-df-convert:hover {\n",
              "      background-color: #E2EBFA;\n",
              "      box-shadow: 0px 1px 2px rgba(60, 64, 67, 0.3), 0px 1px 3px 1px rgba(60, 64, 67, 0.15);\n",
              "      fill: #174EA6;\n",
              "    }\n",
              "\n",
              "    [theme=dark] .colab-df-convert {\n",
              "      background-color: #3B4455;\n",
              "      fill: #D2E3FC;\n",
              "    }\n",
              "\n",
              "    [theme=dark] .colab-df-convert:hover {\n",
              "      background-color: #434B5C;\n",
              "      box-shadow: 0px 1px 3px 1px rgba(0, 0, 0, 0.15);\n",
              "      filter: drop-shadow(0px 1px 2px rgba(0, 0, 0, 0.3));\n",
              "      fill: #FFFFFF;\n",
              "    }\n",
              "  </style>\n",
              "\n",
              "      <script>\n",
              "        const buttonEl =\n",
              "          document.querySelector('#df-2b31ff83-f2f7-4eca-a2d8-03c9a1798511 button.colab-df-convert');\n",
              "        buttonEl.style.display =\n",
              "          google.colab.kernel.accessAllowed ? 'block' : 'none';\n",
              "\n",
              "        async function convertToInteractive(key) {\n",
              "          const element = document.querySelector('#df-2b31ff83-f2f7-4eca-a2d8-03c9a1798511');\n",
              "          const dataTable =\n",
              "            await google.colab.kernel.invokeFunction('convertToInteractive',\n",
              "                                                     [key], {});\n",
              "          if (!dataTable) return;\n",
              "\n",
              "          const docLinkHtml = 'Like what you see? Visit the ' +\n",
              "            '<a target=\"_blank\" href=https://colab.research.google.com/notebooks/data_table.ipynb>data table notebook</a>'\n",
              "            + ' to learn more about interactive tables.';\n",
              "          element.innerHTML = '';\n",
              "          dataTable['output_type'] = 'display_data';\n",
              "          await google.colab.output.renderOutput(dataTable, element);\n",
              "          const docLink = document.createElement('div');\n",
              "          docLink.innerHTML = docLinkHtml;\n",
              "          element.appendChild(docLink);\n",
              "        }\n",
              "      </script>\n",
              "    </div>\n",
              "  </div>\n",
              "  "
            ]
          },
          "metadata": {},
          "execution_count": 7
        }
      ]
    },
    {
      "cell_type": "markdown",
      "metadata": {
        "deletable": false,
        "editable": false,
        "hideCode": false,
        "hidePrompt": false,
        "nbgrader": {
          "checksum": "aaa5e730f40ba21c1bc94f864bad4742",
          "grade": false,
          "grade_id": "cell-58fc2e5938733f6a",
          "locked": true,
          "schema_version": 1,
          "solution": false
        },
        "id": "upc8xGWU-4kg"
      },
      "source": [
        "## Filtering data and calculating frequencies\n",
        "The function `proportion_of_education` returns the proportion of children in the dataset who had a mother with the education levels equal to less than high school, high school, more than high school but not a college graduate and college degree."
      ]
    },
    {
      "cell_type": "code",
      "execution_count": 9,
      "metadata": {
        "deletable": false,
        "nbgrader": {
          "checksum": "0ac58deb3f5ac988c643e903cbee7f3a",
          "grade": false,
          "grade_id": "cell-eea16d020eb52ae7",
          "locked": false,
          "schema_version": 1,
          "solution": true
        },
        "id": "dqD6_qw1-4kh",
        "colab": {
          "base_uri": "https://localhost:8080/"
        },
        "outputId": "a78fd86b-d194-4538-b6bb-1ae1d150fa68"
      },
      "outputs": [
        {
          "output_type": "execute_result",
          "data": {
            "text/plain": [
              "{'college': 0.47974705779026877,\n",
              " 'high school': 0.172352011241876,\n",
              " 'less than high school': 0.10202002459160373,\n",
              " 'more than high school but not college': 0.24588090637625154}"
            ]
          },
          "metadata": {},
          "execution_count": 9
        }
      ],
      "source": [
        "#The column we are interested in is 'EDUC1'\n",
        "\n",
        "#Categories are distinguished as 1,2,3 and 4\n",
        "#they correspond to less than high school, high school, \n",
        "#more than high school but not a college graduate \n",
        "#and college degree respectively.\n",
        "\n",
        "#There is no mising value\n",
        "def proportion_of_education():\n",
        "  le_12 = df[df['EDUC1']==1]['EDUC1']\n",
        "  eq_12 = df[df['EDUC1']==2]['EDUC1']\n",
        "  gr_12 = df[df['EDUC1']==3]['EDUC1']\n",
        "  college = df[df['EDUC1']==4]['EDUC1']\n",
        "  \n",
        "  le_12_rf = len(le_12)/len(df)\n",
        "  eq_12_rf = len(eq_12)/len(df)\n",
        "  gr_12_rf = len(gr_12)/len(df)\n",
        "  college_rf = len(college)/len(df)\n",
        "  return {\"less than high school\":le_12_rf,\"high school\":eq_12_rf,\"more than high school but not college\":gr_12_rf,\"college\":college_rf}\n",
        "\n",
        "proportion_of_education()"
      ]
    },
    {
      "cell_type": "markdown",
      "metadata": {
        "deletable": false,
        "editable": false,
        "nbgrader": {
          "checksum": "562b78b7b9b79580269be0a3bebf4b42",
          "grade": false,
          "grade_id": "cell-8fcbb64516283f52",
          "locked": true,
          "schema_version": 1,
          "solution": false
        },
        "id": "S7NF1Zds-4kj"
      },
      "source": [
        "## Relationship between to variables\n",
        "\n",
        "We explore the relationship between being fed breastmilk as a child and getting a seasonal influenza vaccine from a healthcare provider. "
      ]
    },
    {
      "cell_type": "code",
      "execution_count": 11,
      "metadata": {
        "deletable": false,
        "nbgrader": {
          "checksum": "a405d639063c4a6408365479f29c95c9",
          "grade": false,
          "grade_id": "cell-77f18c512324eabb",
          "locked": false,
          "schema_version": 1,
          "solution": true
        },
        "id": "RJzE48d5-4kk",
        "colab": {
          "base_uri": "https://localhost:8080/"
        },
        "outputId": "3bae35db-759f-47e6-d141-46f215ef7732"
      },
      "outputs": [
        {
          "output_type": "execute_result",
          "data": {
            "text/plain": [
              "(1.8799187420058687, 1.5963945918878317)"
            ]
          },
          "metadata": {},
          "execution_count": 11
        }
      ],
      "source": [
        "#The column 'CBF_01' contains the information\n",
        "#about breastfed children: 1-yes, 2-no\n",
        "\n",
        "#Column 'P_NUMFLU' contains the number of \n",
        "#flu vaccines\n",
        "\n",
        "#there are some NaN. We drop it to calculate\n",
        "#the average\n",
        "\n",
        "def average_influenza_doses():\n",
        "  BF = df[df['CBF_01']==1]\n",
        "  NBF = df[df['CBF_01']==2]\n",
        "  BF_FLU = np.sum(BF['P_NUMFLU'])/len(BF['P_NUMFLU'].dropna())\n",
        "  NBF_FLU = np.sum(NBF['P_NUMFLU'])/len(NBF['P_NUMFLU'].dropna())\n",
        "  return (BF_FLU,NBF_FLU)\n",
        "average_influenza_doses()"
      ]
    },
    {
      "cell_type": "markdown",
      "metadata": {
        "deletable": false,
        "editable": false,
        "nbgrader": {
          "checksum": "e10e2163f5957a0c398ef4f0b76b4efe",
          "grade": false,
          "grade_id": "cell-f63377f3c97aa7c4",
          "locked": true,
          "schema_version": 1,
          "solution": false
        },
        "id": "-aiwmU2r-4kl"
      },
      "source": [
        "It would be interesting to see if there is any evidence of a link between vaccine effectiveness and sex of the child. So, we Calculate the ratio of the number of children who contracted chickenpox but were vaccinated against it (at least one varicella dose) versus those who were vaccinated but did not contract chicken pox. "
      ]
    },
    {
      "cell_type": "code",
      "execution_count": 12,
      "metadata": {
        "deletable": false,
        "nbgrader": {
          "checksum": "b4d1b58acae002bc73eb0b19f95bc4af",
          "grade": false,
          "grade_id": "cell-a0a9e6fe67698006",
          "locked": false,
          "schema_version": 1,
          "solution": true
        },
        "colab": {
          "base_uri": "https://localhost:8080/"
        },
        "id": "XZaaqGUR-4km",
        "outputId": "d9f0441d-0ee3-4ff4-eb43-a5414d80268e"
      },
      "outputs": [
        {
          "output_type": "execute_result",
          "data": {
            "text/plain": [
              "{'female': 0.0077918259335489565, 'male': 0.009675583380762664}"
            ]
          },
          "metadata": {},
          "execution_count": 12
        }
      ],
      "source": [
        "# Column \"P_NUMVRC\" has the number of chicken pox vaccines\n",
        "def chickenpox_by_sex():\n",
        "  var = df[df[\"P_NUMVRC\"]>=1]\n",
        "  yes_var_female = len(var[(var['HAD_CPOX']==1)&(var['SEX']==2)])\n",
        "  no_var_female = len(var[(var['HAD_CPOX']==2)&(var['SEX']==2)])\n",
        "  yes_var_male = len(var[(var['HAD_CPOX']==1)&(var['SEX']==1)])\n",
        "  no_var_male = len(var[(var['HAD_CPOX']==2)&(var['SEX']==1)])\n",
        "  return {'male':yes_var_male/no_var_male,'female':yes_var_female/no_var_female}\n",
        "chickenpox_by_sex()"
      ]
    },
    {
      "cell_type": "markdown",
      "metadata": {
        "id": "T_fn1J_r-4ko"
      },
      "source": [
        "## Correlation\n",
        "We wanted to know if chicken pox vaccines work, thus we calculate the correlation between the use of the vaccine and whether it results in prevention of the infection or disease (the analysis we do here is not a rigurous one, we only want to show how to handle datasets using pandas)"
      ]
    },
    {
      "cell_type": "code",
      "execution_count": 14,
      "metadata": {
        "deletable": false,
        "nbgrader": {
          "checksum": "3e645859949447913cd11d30eb33cb1e",
          "grade": false,
          "grade_id": "cell-8afff07f564cf79a",
          "locked": false,
          "schema_version": 1,
          "solution": true
        },
        "id": "vPk0IhE5-4ko",
        "colab": {
          "base_uri": "https://localhost:8080/"
        },
        "outputId": "ef613c54-42d6-4296-c7c5-3bc5e97620ce"
      },
      "outputs": [
        {
          "output_type": "execute_result",
          "data": {
            "text/plain": [
              "0.07044873460148046"
            ]
          },
          "metadata": {},
          "execution_count": 14
        }
      ],
      "source": [
        "# Column \"P_NUMVRC\" has some NaN\n",
        "import scipy.stats as stats\n",
        "\n",
        "def corr_chickenpox():\n",
        "\n",
        "  DF = pd.DataFrame(df['P_NUMVRC'])\n",
        "  DF['HAD_CPOX'] = df['HAD_CPOX']\n",
        "  DF = DF[DF['HAD_CPOX'].isin([1,2])]\n",
        "  DF= DF.dropna()\n",
        "  corr, pval=stats.pearsonr(DF['HAD_CPOX'],DF['P_NUMVRC'])\n",
        "\n",
        "  return corr\n",
        "corr_chickenpox()"
      ]
    },
    {
      "cell_type": "code",
      "source": [
        ""
      ],
      "metadata": {
        "id": "Iy0eAWMrTfID"
      },
      "execution_count": null,
      "outputs": []
    }
  ],
  "metadata": {
    "anaconda-cloud": {},
    "coursera": {
      "schema_names": [
        "mooc_adswpy_1_v2_assignment2"
      ]
    },
    "hide_code_all_hidden": false,
    "kernelspec": {
      "display_name": "Python 3",
      "language": "python",
      "name": "python3"
    },
    "language_info": {
      "codemirror_mode": {
        "name": "ipython",
        "version": 3
      },
      "file_extension": ".py",
      "mimetype": "text/x-python",
      "name": "python",
      "nbconvert_exporter": "python",
      "pygments_lexer": "ipython3",
      "version": "3.7.3"
    },
    "colab": {
      "name": "basic_statistics_pandas.ipynb",
      "provenance": [],
      "collapsed_sections": [],
      "include_colab_link": true
    }
  },
  "nbformat": 4,
  "nbformat_minor": 0
}